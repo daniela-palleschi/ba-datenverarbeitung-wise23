{
  "cells": [
    {
      "cell_type": "markdown",
      "metadata": {},
      "source": [
        "# Datenvisualisierung 2\n",
        "\n",
        "Darstellung der zusammenfassenden Statistik\n",
        "\n",
        "Daniela Palleschi (Humboldt-Universität zu Berlin)  \n",
        "2023-07-03\n",
        "\n",
        "# Wiederholung\n",
        "\n",
        "Letzte Woche haben wir…\n",
        "\n",
        "-   Maße der zentralen Tendenz (neu) kennengelernt ✅\n",
        "-   Maße der Streuungsmaßen kennengelernt ✅\n",
        "-   gelernt, wie man die Funktion `summarise()` von `dplyr` benutzt ✅\n",
        "-   gelernt, wie man Zusammenfassungen nach (`.by =`) Gruppen erstellt\n",
        "    ✅\n",
        "\n",
        "# Heutige Ziele\n",
        "\n",
        "This week we will learn how to…\n",
        "\n",
        "## Lust auf mehr?\n",
        "\n",
        "-   Section 30 ([Visualising\n",
        "    relationsips](https://r4ds.hadley.nz/data-visualize.html#visualizing-relationships))\n",
        "    in Wickham et al. (o. J.)\n",
        "\n",
        "-   Ch. 4 ([Representing summary\n",
        "    statistics](https://psyteachr.github.io/introdataviz/representing-summary-statistics.html))\n",
        "    in Nordmann et al. (2022)\n",
        "\n",
        "# Einrichtung"
      ],
      "id": "20a0524f-f001-4027-bf7b-260b41fa7759"
    },
    {
      "cell_type": "code",
      "execution_count": null,
      "metadata": {},
      "outputs": [],
      "source": [
        "pacman::p_load(tidyverse,\n",
        "               here,\n",
        "               palmerpenguins,\n",
        "               ggthemes,\n",
        "               patchwork)"
      ],
      "id": "60c98d0f-8fd1-4378-af9b-4cddff0db45d"
    },
    {
      "cell_type": "code",
      "execution_count": null,
      "metadata": {},
      "outputs": [],
      "source": [
        "df_penguins <- palmerpenguins::penguins %>% \n",
        "  drop_na()"
      ],
      "id": "1dc18242-84ac-430e-aba8-68b3e397dfa7"
    },
    {
      "cell_type": "markdown",
      "metadata": {},
      "source": [
        "# Session Info\n",
        "\n",
        "Hergestellt mit R version 4.3.0 (2023-04-21) (Already Tomorrow) und\n",
        "RStudioversion 2023.3.0.386 (Cherry Blossom)."
      ],
      "id": "eeff8b21-0811-4820-a54a-b5c35de8878a"
    },
    {
      "cell_type": "code",
      "execution_count": null,
      "metadata": {},
      "outputs": [
        {
          "output_type": "stream",
          "name": "stdout",
          "text": [
            "R version 4.3.0 (2023-04-21)\n",
            "Platform: aarch64-apple-darwin20 (64-bit)\n",
            "Running under: macOS Ventura 13.2.1\n",
            "\n",
            "Matrix products: default\n",
            "BLAS:   /Library/Frameworks/R.framework/Versions/4.3-arm64/Resources/lib/libRblas.0.dylib \n",
            "LAPACK: /Library/Frameworks/R.framework/Versions/4.3-arm64/Resources/lib/libRlapack.dylib;  LAPACK version 3.11.0\n",
            "\n",
            "attached base packages:\n",
            "[1] stats     graphics  grDevices utils     datasets  methods   base     \n",
            "\n",
            "other attached packages:\n",
            " [1] magick_2.7.4         patchwork_1.1.2      ggthemes_4.2.4      \n",
            " [4] palmerpenguins_0.1.1 here_1.0.1           lubridate_1.9.2     \n",
            " [7] forcats_1.0.0        stringr_1.5.0        dplyr_1.1.2         \n",
            "[10] purrr_1.0.1          readr_2.1.4          tidyr_1.3.0         \n",
            "[13] tibble_3.2.1         ggplot2_3.4.2        tidyverse_2.0.0     \n",
            "\n",
            "loaded via a namespace (and not attached):\n",
            " [1] utf8_1.2.3       generics_0.1.3   stringi_1.7.12   hms_1.1.3       \n",
            " [5] digest_0.6.31    magrittr_2.0.3   evaluate_0.21    grid_4.3.0      \n",
            " [9] timechange_0.2.0 fastmap_1.1.1    rprojroot_2.0.3  jsonlite_1.8.5  \n",
            "[13] httr_1.4.6       fansi_1.0.4      scales_1.2.1     cli_3.6.1       \n",
            "[17] rlang_1.1.1      munsell_0.5.0    withr_2.5.0      yaml_2.3.7      \n",
            "[21] tools_4.3.0      tzdb_0.4.0       colorspace_2.1-0 pacman_0.5.1    \n",
            "[25] curl_5.0.1       vctrs_0.6.3      R6_2.5.1         lifecycle_1.0.3 \n",
            "[29] fs_1.6.2         rbbt_0.0.0.9000  pkgconfig_2.0.3  pillar_1.9.0    \n",
            "[33] gtable_0.3.3     Rcpp_1.0.10      glue_1.6.2       xfun_0.39       \n",
            "[37] tidyselect_1.2.0 rstudioapi_0.14  knitr_1.43       htmltools_0.5.5 \n",
            "[41] rmarkdown_2.22   compiler_4.3.0  "
          ]
        }
      ],
      "source": [
        "print(sessionInfo(),locale = F)"
      ],
      "id": "2728a88b-205d-407f-bac5-6d37d3a4d398"
    },
    {
      "cell_type": "markdown",
      "metadata": {},
      "source": [
        "# Literaturverzeichnis\n",
        "\n",
        "Nordmann, E., McAleer, P., Toivo, W., Paterson, H., & DeBruine, L. M.\n",
        "(2022). Data Visualization Using R for Researchers Who Do Not Use R.\n",
        "*Advances in Methods and Practices in Psychological Science*, *5*(2),\n",
        "251524592210746. <https://doi.org/10.1177/25152459221074654>\n",
        "\n",
        "Wickham, H., Çetinkaya-Rundel, M., & Grolemund, G. (o. J.). *R for Data\n",
        "Science* (2. Aufl.). <https://r4ds.hadley.nz/>"
      ],
      "id": "3051b5d9-b119-4ee6-a0ab-22487e88ce78"
    }
  ],
  "nbformat": 4,
  "nbformat_minor": 5,
  "metadata": {
    "kernelspec": {
      "display_name": "Python 3",
      "language": "python",
      "name": "python3"
    }
  }
}